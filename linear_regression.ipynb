import yfinance as yf  # Import the yfinance library for downloading financial data
import pandas as pd  # Import pandas for data manipulation and analysis
import numpy as np  # Import NumPy for numerical operations
from sklearn.linear_model import LinearRegression  # Import LinearRegression for building the linear regression model
import matplotlib.pyplot as plt  # Import matplotlib for plotting data
from datetime import datetime  # Import datetime for date manipulation

# Get today's date in 'YYYY-MM-DD' format
today = datetime.now().strftime('%Y-%m-%d')

# Download Bitcoin data from Yahoo Finance (using a broader date range)
btc_data = yf.download('BTC-USD', start='2022-01-01', end=today)  # Fetch Bitcoin data from January 1, 2022, to today
btc_data['Date'] = btc_data.index  # Add a 'Date' column with the index as dates

# Add additional features: Moving Averages (MA)
btc_data['MA_7'] = btc_data['Close'].rolling(window=7).mean()  # Calculate 7-day moving average of the closing price
btc_data['MA_30'] = btc_data['Close'].rolling(window=30).mean()  # Calculate 30-day moving average of the closing price

# Fill the initial NaN values in the moving averages
btc_data.fillna(method='bfill', inplace=True)  # Backfill NaN values in the DataFrame

# Convert dates to a numerical representation (number of days since the start date)
btc_data['Days'] = (btc_data['Date'] - btc_data['Date'].min()).dt.days  # Calculate the number of days since the first date

# Define features (X) and target variable (y)
X = btc_data[['Days', 'MA_7', 'MA_30']]  # Select 'Days', 'MA_7', and 'MA_30' as features
y = btc_data['Close']  # Select 'Close' price as the target variable

# Create the linear regression model
model = LinearRegression()  # Initialize the LinearRegression model
model.fit(X, y)  # Fit the model to the data

# Get the last day's numerical representation
last_day = btc_data['Days'].max()  # Get the maximum number of days (last day in the dataset)

# Prepare to make predictions for the next 7 days
future_days = np.array(range(last_day + 1, last_day + 8)).reshape(-1, 1)  # Create an array of future days (1 to 7 days ahead)
future_ma_7 = np.repeat(btc_data['MA_7'].iloc[-1], 7).reshape(-1, 1)  # Repeat the last 7-day MA value for future days
future_ma_30 = np.repeat(btc_data['MA_30'].iloc[-1], 7).reshape(-1, 1)  # Repeat the last 30-day MA value for future days

# Combine future features into a single array
future_features = np.hstack([future_days, future_ma_7, future_ma_30])  # Horizontally stack the future features

# Make predictions using the model
predictions = model.predict(future_features)  # Predict future prices based on the features

# Get the last actual closing price and its date
last_close = btc_data['Close'].iloc[-1]  # Get the last closing price from the dataset
last_date = btc_data['Date'].iloc[-1]  # Get the last date from the dataset

# Create dates for the predictions
future_dates = pd.date_range(start=last_date + pd.Timedelta(days=1), periods=7)  # Generate dates for the next 7 days

# Add the last actual closing price to the predictions list
predictions_with_last_close = [last_close] + list(predictions)  # Combine the last actual closing price with predictions
future_dates_with_last_close = pd.date_range(start=last_date, periods=8)  # Generate dates including the last date

# Visualize the results
plt.figure(figsize=(14, 7))  # Set the figure size for the plot
plt.plot(btc_data['Date'], y, label='Actual Price', color='blue')  # Plot actual prices in blue
plt.plot(future_dates_with_last_close, predictions_with_last_close, label='Predicted Price', color='orange')  # Plot predicted prices in orange
plt.title('Bitcoin Price Prediction (Enhanced Linear Regression)')  # Set the title of the plot
plt.xlabel('Date')  # Label for x-axis
plt.ylabel('Price (USD)')  # Label for y-axis
plt.legend()  # Display the legend
plt.show()  # Show the plot

# Print the predicted prices as a DataFrame
predicted_prices = pd.DataFrame({'Date': future_dates_with_last_close, 'Predicted Price': predictions_with_last_close})  # Create DataFrame for predicted prices
print(predicted_prices)  # Display the predicted prices

# Print the last actual closing price and its date
print(f"Last Actual Closing Price: {last_close} USD, Date: {last_date.date()}")  # Print the last closing price and date
